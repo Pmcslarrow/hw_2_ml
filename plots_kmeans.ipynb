{
 "cells": [
  {
   "cell_type": "code",
   "execution_count": null,
   "metadata": {},
   "outputs": [],
   "source": [
    "import numpy as np\n",
    "\n",
    "from starter import read_data, inplace_min_max_scaling, kmeans_helper, calculate_downsample\n",
    "\n",
    "from sklearn.metrics import silhouette_score, adjusted_mutual_info_score, adjusted_rand_score\n"
   ]
  },
  {
   "cell_type": "markdown",
   "metadata": {},
   "source": [
    "KMEANS WITH RAW DATA"
   ]
  },
  {
   "cell_type": "code",
   "execution_count": 3,
   "metadata": {},
   "outputs": [],
   "source": [
    "train_data = read_data('mnist_train.csv')\n",
    "valid_data = read_data('mnist_valid.csv')\n",
    "test_data = read_data('mnist_test.csv')\n",
    "\n",
    "inplace_min_max_scaling(train_data)\n",
    "inplace_min_max_scaling(test_data)\n",
    "inplace_min_max_scaling(valid_data)\n",
    "\n",
    "cluster_data = [l[1] for l in train_data]\n",
    "true_labels = [l[0] for l in train_data]\n",
    "\n",
    "metrics = ['euclidean', 'cosim']"
   ]
  },
  {
   "cell_type": "code",
   "execution_count": 5,
   "metadata": {},
   "outputs": [
    {
     "name": "stdout",
     "output_type": "stream",
     "text": [
      "\n",
      "Silhouette Score with k=10 (custom KMeans): 0.07038219828897542\n",
      "Adjusted Mutual Information (AMI): 0.4947745456009607\n",
      "Adjusted Rand Index (ARI): 0.38945316287005266\n",
      "\n",
      "\n",
      "Silhouette Score with k=10 (custom KMeans): 0.06038206107697131\n",
      "Adjusted Mutual Information (AMI): 0.5109744105664488\n",
      "Adjusted Rand Index (ARI): 0.393551748373689\n",
      "\n"
     ]
    }
   ],
   "source": [
    "for metric in metrics:\n",
    "    print()\n",
    "    k = 10\n",
    "\n",
    "    cluster_memberships = kmeans_helper(cluster_data, metric, k=k)\n",
    "\n",
    "    clusters = [[] for _ in range(k)]\n",
    "\n",
    "    for data_point_idx, cluster in enumerate(cluster_memberships):\n",
    "        clusters[cluster].append(cluster_data[data_point_idx])\n",
    "\n",
    "    data = np.array(cluster_data)\n",
    "\n",
    "    # Silhouette score for custom KMeans\n",
    "    custom_score = silhouette_score(data, cluster_memberships)\n",
    "    cami = adjusted_mutual_info_score(true_labels, cluster_memberships)\n",
    "    cari = adjusted_rand_score(true_labels, cluster_memberships)\n",
    "    print(f\"Silhouette Score with k={k} (custom KMeans):\", custom_score)\n",
    "    print(\"Adjusted Mutual Information (AMI):\", cami)\n",
    "    print(\"Adjusted Rand Index (ARI):\", cari)\n",
    "    print()"
   ]
  },
  {
   "cell_type": "markdown",
   "metadata": {},
   "source": [
    "KMEANS WITH DOWNSAMPLED DATA"
   ]
  },
  {
   "cell_type": "code",
   "execution_count": 6,
   "metadata": {},
   "outputs": [],
   "source": [
    "train_data = read_data('mnist_train.csv')\n",
    "valid_data = read_data('mnist_valid.csv')\n",
    "test_data = read_data('mnist_test.csv')\n",
    "\n",
    "inplace_min_max_scaling(train_data)\n",
    "inplace_min_max_scaling(test_data)\n",
    "inplace_min_max_scaling(valid_data)\n",
    "\n",
    "calculate_downsample(train_data) # inplace calculation of downsample -- reduces the dataset by half exactly\n",
    "calculate_downsample(valid_data)\n",
    "calculate_downsample(test_data)\n",
    "\n",
    "cluster_data = [l[1] for l in train_data]\n",
    "true_labels = [l[0] for l in train_data]\n",
    "\n",
    "metrics = ['euclidean', 'cosim']"
   ]
  },
  {
   "cell_type": "code",
   "execution_count": 7,
   "metadata": {},
   "outputs": [
    {
     "name": "stdout",
     "output_type": "stream",
     "text": [
      "\n",
      "Silhouette Score with k=10 (custom KMeans): 0.07681420743363736\n",
      "Adjusted Mutual Information (AMI): 0.5045506029552029\n",
      "Adjusted Rand Index (ARI): 0.40018290495180836\n",
      "\n",
      "\n",
      "Silhouette Score with k=10 (custom KMeans): 0.0634570424654387\n",
      "Adjusted Mutual Information (AMI): 0.5065747278342634\n",
      "Adjusted Rand Index (ARI): 0.39660189647244537\n",
      "\n"
     ]
    }
   ],
   "source": [
    "for metric in metrics:\n",
    "    print()\n",
    "    k = 10\n",
    "\n",
    "    cluster_memberships = kmeans_helper(cluster_data, metric, k=k)\n",
    "\n",
    "    clusters = [[] for _ in range(k)]\n",
    "\n",
    "    for data_point_idx, cluster in enumerate(cluster_memberships):\n",
    "        clusters[cluster].append(cluster_data[data_point_idx])\n",
    "\n",
    "    data = np.array(cluster_data)\n",
    "\n",
    "    # Silhouette score for custom KMeans\n",
    "    custom_score = silhouette_score(data, cluster_memberships)\n",
    "    cami = adjusted_mutual_info_score(true_labels, cluster_memberships)\n",
    "    cari = adjusted_rand_score(true_labels, cluster_memberships)\n",
    "    print(f\"Silhouette Score with k={k} (custom KMeans):\", custom_score)\n",
    "    print(\"Adjusted Mutual Information (AMI):\", cami)\n",
    "    print(\"Adjusted Rand Index (ARI):\", cari)\n",
    "    print()"
   ]
  }
 ],
 "metadata": {
  "kernelspec": {
   "display_name": "hw_2_ml",
   "language": "python",
   "name": "python3"
  },
  "language_info": {
   "codemirror_mode": {
    "name": "ipython",
    "version": 3
   },
   "file_extension": ".py",
   "mimetype": "text/x-python",
   "name": "python",
   "nbconvert_exporter": "python",
   "pygments_lexer": "ipython3",
   "version": "3.11.8"
  }
 },
 "nbformat": 4,
 "nbformat_minor": 2
}
